{
 "cells": [
  {
   "cell_type": "code",
   "execution_count": 2,
   "metadata": {},
   "outputs": [],
   "source": [
    "import flywheel\n",
    "import os\n",
    "import datetime\n",
    "from dateutil.tz import tzutc\n",
    "\n",
    "fw = flywheel.Client()\n",
    "gear = fw.lookup('gears/wscore-ct-heatmap/0.2.1_0.2.0')\n",
    "collection_id = '60a4032befa949862afeafbb'\n",
    "\n",
    "local_dir = '/home/will/Projects/PVS/wscore_data'\n",
    "os.makedirs(local_dir, exist_ok=True)"
   ]
  },
  {
   "cell_type": "code",
   "execution_count": 3,
   "metadata": {},
   "outputs": [],
   "source": [
    "# Get all the sessions within the collection.\n",
    "sessions = [fw.get_session(x.id) for x in fw.get_collection_sessions(collection_id)]"
   ]
  },
  {
   "cell_type": "code",
   "execution_count": 4,
   "metadata": {},
   "outputs": [],
   "source": [
    "for session in sessions:\n",
    "    sub_label = fw.get(session.parents['subject']).label.replace('_','x')\n",
    "    ses_dir = os.path.join(local_dir, sub_label, session.label)\n",
    "    os.makedirs(ses_dir, exist_ok=True)\n",
    "    \n",
    "    for analysis in session.analyses:\n",
    "        if analysis.label.startswith('wscore_2021-05-26') and analysis.job['state']=='complete' and analysis.files:\n",
    "            file = [f for f in analysis.files if f.name.endswith('wscores.csv')]\n",
    "            \n",
    "            try:\n",
    "                analysis.download_file(file[0].name, os.path.join(ses_dir, file[0].name))\n",
    "            except IndexError as e:\n",
    "                print(session.label)"
   ]
  }
 ],
 "metadata": {
  "kernelspec": {
   "display_name": "Python 3",
   "language": "python",
   "name": "python3"
  },
  "language_info": {
   "codemirror_mode": {
    "name": "ipython",
    "version": 3
   },
   "file_extension": ".py",
   "mimetype": "text/x-python",
   "name": "python",
   "nbconvert_exporter": "python",
   "pygments_lexer": "ipython3",
   "version": "3.7.3"
  }
 },
 "nbformat": 4,
 "nbformat_minor": 2
}
